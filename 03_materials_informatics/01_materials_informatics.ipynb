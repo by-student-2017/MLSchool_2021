{
  "nbformat": 4,
  "nbformat_minor": 0,
  "metadata": {
    "colab": {
      "name": "01_materials_informatics.ipynb",
      "provenance": [],
      "collapsed_sections": []
    },
    "kernelspec": {
      "name": "python3",
      "display_name": "Python 3"
    },
    "language_info": {
      "name": "python"
    }
  },
  "cells": [
    {
      "cell_type": "markdown",
      "metadata": {
        "id": "9WfDI9ykrUcH"
      },
      "source": [
        "matminer: https://hackingmaterials.lbl.gov/matminer/\n",
        "\n",
        "scikit-learn: https://scikit-learn.org/\n",
        "\n",
        "The Material Project Workshop: https://workshop.materialsproject.org/lessons/08_ml_matminer/matminer-notes/"
      ]
    },
    {
      "cell_type": "code",
      "metadata": {
        "id": "EFiw3g2PrQss",
        "colab": {
          "base_uri": "https://localhost:8080/",
          "height": 1000
        },
        "outputId": "1bc1799d-c5d2-41c2-ee07-8c26794156aa"
      },
      "source": [
        "!pip install numpy\n",
        "!pip install pandas\n",
        "#!pip install -U pandas-profiling\n",
        "!pip install pymatgen==2021.3.9\n",
        "!pip install matminer==0.6.5\n",
        "#!pip install figrecipes"
      ],
      "execution_count": null,
      "outputs": [
        {
          "output_type": "stream",
          "name": "stdout",
          "text": [
            "Requirement already satisfied: numpy in /usr/local/lib/python3.7/dist-packages (1.19.5)\n",
            "Requirement already satisfied: pandas in /usr/local/lib/python3.7/dist-packages (1.1.5)\n",
            "Requirement already satisfied: numpy>=1.15.4 in /usr/local/lib/python3.7/dist-packages (from pandas) (1.19.5)\n",
            "Requirement already satisfied: python-dateutil>=2.7.3 in /usr/local/lib/python3.7/dist-packages (from pandas) (2.8.2)\n",
            "Requirement already satisfied: pytz>=2017.2 in /usr/local/lib/python3.7/dist-packages (from pandas) (2018.9)\n",
            "Requirement already satisfied: six>=1.5 in /usr/local/lib/python3.7/dist-packages (from python-dateutil>=2.7.3->pandas) (1.15.0)\n",
            "Collecting pymatgen==2021.3.9\n",
            "  Downloading pymatgen-2021.3.9.tar.gz (3.0 MB)\n",
            "\u001b[K     |████████████████████████████████| 3.0 MB 13.2 MB/s \n",
            "\u001b[?25h  Installing build dependencies ... \u001b[?25l\u001b[?25hdone\n",
            "  Getting requirements to build wheel ... \u001b[?25l\u001b[?25hdone\n",
            "  Installing backend dependencies ... \u001b[?25l\u001b[?25hdone\n",
            "    Preparing wheel metadata ... \u001b[?25l\u001b[?25hdone\n",
            "Requirement already satisfied: requests in /usr/local/lib/python3.7/dist-packages (from pymatgen==2021.3.9) (2.23.0)\n",
            "Collecting ruamel.yaml>=0.15.6\n",
            "  Downloading ruamel.yaml-0.17.17-py3-none-any.whl (109 kB)\n",
            "\u001b[K     |████████████████████████████████| 109 kB 76.1 MB/s \n",
            "\u001b[?25hCollecting spglib>=1.9.9.44\n",
            "  Downloading spglib-1.16.2-cp37-cp37m-manylinux_2_17_x86_64.manylinux2014_x86_64.whl (292 kB)\n",
            "\u001b[K     |████████████████████████████████| 292 kB 72.7 MB/s \n",
            "\u001b[?25hRequirement already satisfied: tabulate in /usr/local/lib/python3.7/dist-packages (from pymatgen==2021.3.9) (0.8.9)\n",
            "Requirement already satisfied: pandas in /usr/local/lib/python3.7/dist-packages (from pymatgen==2021.3.9) (1.1.5)\n",
            "Collecting plotly>=4.5.0\n",
            "  Downloading plotly-5.3.1-py2.py3-none-any.whl (23.9 MB)\n",
            "\u001b[K     |████████████████████████████████| 23.9 MB 1.6 MB/s \n",
            "\u001b[?25hRequirement already satisfied: matplotlib>=1.5 in /usr/local/lib/python3.7/dist-packages (from pymatgen==2021.3.9) (3.2.2)\n",
            "Collecting scipy>=1.5.0\n",
            "  Downloading scipy-1.7.1-cp37-cp37m-manylinux_2_5_x86_64.manylinux1_x86_64.whl (28.5 MB)\n",
            "\u001b[K     |████████████████████████████████| 28.5 MB 51 kB/s \n",
            "\u001b[?25hRequirement already satisfied: sympy in /usr/local/lib/python3.7/dist-packages (from pymatgen==2021.3.9) (1.7.1)\n",
            "Requirement already satisfied: palettable>=3.1.1 in /usr/local/lib/python3.7/dist-packages (from pymatgen==2021.3.9) (3.3.0)\n",
            "Requirement already satisfied: networkx>=2.2 in /usr/local/lib/python3.7/dist-packages (from pymatgen==2021.3.9) (2.6.3)\n",
            "Collecting uncertainties>=3.1.4\n",
            "  Downloading uncertainties-3.1.6-py2.py3-none-any.whl (98 kB)\n",
            "\u001b[K     |████████████████████████████████| 98 kB 7.0 MB/s \n",
            "\u001b[?25hRequirement already satisfied: typing-extensions>=3.7.4.3 in /usr/local/lib/python3.7/dist-packages (from pymatgen==2021.3.9) (3.7.4.3)\n",
            "Collecting monty>=3.0.2\n",
            "  Downloading monty-2021.8.17-py3-none-any.whl (65 kB)\n",
            "\u001b[K     |████████████████████████████████| 65 kB 2.2 MB/s \n",
            "\u001b[?25hCollecting numpy>=1.20.1\n",
            "  Using cached numpy-1.21.3-cp37-cp37m-manylinux_2_12_x86_64.manylinux2010_x86_64.whl (15.7 MB)\n",
            "Requirement already satisfied: python-dateutil>=2.1 in /usr/local/lib/python3.7/dist-packages (from matplotlib>=1.5->pymatgen==2021.3.9) (2.8.2)\n",
            "Requirement already satisfied: cycler>=0.10 in /usr/local/lib/python3.7/dist-packages (from matplotlib>=1.5->pymatgen==2021.3.9) (0.10.0)\n",
            "Requirement already satisfied: pyparsing!=2.0.4,!=2.1.2,!=2.1.6,>=2.0.1 in /usr/local/lib/python3.7/dist-packages (from matplotlib>=1.5->pymatgen==2021.3.9) (2.4.7)\n",
            "Requirement already satisfied: kiwisolver>=1.0.1 in /usr/local/lib/python3.7/dist-packages (from matplotlib>=1.5->pymatgen==2021.3.9) (1.3.2)\n",
            "Requirement already satisfied: six in /usr/local/lib/python3.7/dist-packages (from cycler>=0.10->matplotlib>=1.5->pymatgen==2021.3.9) (1.15.0)\n",
            "Collecting tenacity>=6.2.0\n",
            "  Downloading tenacity-8.0.1-py3-none-any.whl (24 kB)\n",
            "Collecting ruamel.yaml.clib>=0.1.2\n",
            "  Downloading ruamel.yaml.clib-0.2.6-cp37-cp37m-manylinux1_x86_64.whl (546 kB)\n",
            "\u001b[K     |████████████████████████████████| 546 kB 72.4 MB/s \n",
            "\u001b[?25hRequirement already satisfied: future in /usr/local/lib/python3.7/dist-packages (from uncertainties>=3.1.4->pymatgen==2021.3.9) (0.16.0)\n",
            "Requirement already satisfied: pytz>=2017.2 in /usr/local/lib/python3.7/dist-packages (from pandas->pymatgen==2021.3.9) (2018.9)\n",
            "Requirement already satisfied: urllib3!=1.25.0,!=1.25.1,<1.26,>=1.21.1 in /usr/local/lib/python3.7/dist-packages (from requests->pymatgen==2021.3.9) (1.24.3)\n",
            "Requirement already satisfied: idna<3,>=2.5 in /usr/local/lib/python3.7/dist-packages (from requests->pymatgen==2021.3.9) (2.10)\n",
            "Requirement already satisfied: chardet<4,>=3.0.2 in /usr/local/lib/python3.7/dist-packages (from requests->pymatgen==2021.3.9) (3.0.4)\n",
            "Requirement already satisfied: certifi>=2017.4.17 in /usr/local/lib/python3.7/dist-packages (from requests->pymatgen==2021.3.9) (2021.5.30)\n",
            "Requirement already satisfied: mpmath>=0.19 in /usr/local/lib/python3.7/dist-packages (from sympy->pymatgen==2021.3.9) (1.2.1)\n",
            "Building wheels for collected packages: pymatgen\n",
            "  Building wheel for pymatgen (PEP 517) ... \u001b[?25l\u001b[?25hdone\n",
            "  Created wheel for pymatgen: filename=pymatgen-2021.3.9-cp37-cp37m-linux_x86_64.whl size=3794144 sha256=6b4c181a6781046e943d53068ea20445b74d82d7406dbc3ca040f0ebbfda84f6\n",
            "  Stored in directory: /root/.cache/pip/wheels/27/5c/0a/be267238de73603335b5ea0e1d208b3cce05fe3a43d23178ce\n",
            "Successfully built pymatgen\n",
            "Installing collected packages: tenacity, ruamel.yaml.clib, numpy, uncertainties, spglib, scipy, ruamel.yaml, plotly, monty, pymatgen\n",
            "  Attempting uninstall: numpy\n",
            "    Found existing installation: numpy 1.19.5\n",
            "    Uninstalling numpy-1.19.5:\n",
            "      Successfully uninstalled numpy-1.19.5\n",
            "  Attempting uninstall: scipy\n",
            "    Found existing installation: scipy 1.4.1\n",
            "    Uninstalling scipy-1.4.1:\n",
            "      Successfully uninstalled scipy-1.4.1\n",
            "  Attempting uninstall: plotly\n",
            "    Found existing installation: plotly 4.4.1\n",
            "    Uninstalling plotly-4.4.1:\n",
            "      Successfully uninstalled plotly-4.4.1\n",
            "\u001b[31mERROR: pip's dependency resolver does not currently take into account all the packages that are installed. This behaviour is the source of the following dependency conflicts.\n",
            "tensorflow 2.6.0 requires numpy~=1.19.2, but you have numpy 1.21.3 which is incompatible.\n",
            "datascience 0.10.6 requires folium==0.2.1, but you have folium 0.8.3 which is incompatible.\n",
            "albumentations 0.1.12 requires imgaug<0.2.7,>=0.2.5, but you have imgaug 0.2.9 which is incompatible.\u001b[0m\n",
            "Successfully installed monty-2021.8.17 numpy-1.21.3 plotly-5.3.1 pymatgen-2021.3.9 ruamel.yaml-0.17.17 ruamel.yaml.clib-0.2.6 scipy-1.7.1 spglib-1.16.2 tenacity-8.0.1 uncertainties-3.1.6\n"
          ]
        },
        {
          "output_type": "display_data",
          "data": {
            "application/vnd.colab-display-data+json": {
              "pip_warning": {
                "packages": [
                  "numpy"
                ]
              }
            }
          },
          "metadata": {}
        },
        {
          "output_type": "stream",
          "name": "stdout",
          "text": [
            "Collecting matminer==0.6.5\n",
            "  Downloading matminer-0.6.5.tar.gz (5.8 MB)\n",
            "\u001b[K     |████████████████████████████████| 5.8 MB 14.5 MB/s \n",
            "\u001b[?25hRequirement already satisfied: numpy>=1.19.1 in /usr/local/lib/python3.7/dist-packages (from matminer==0.6.5) (1.21.3)\n",
            "Requirement already satisfied: requests>=2.23.0 in /usr/local/lib/python3.7/dist-packages (from matminer==0.6.5) (2.23.0)\n",
            "Requirement already satisfied: pymatgen>=2020.4.29 in /usr/local/lib/python3.7/dist-packages (from matminer==0.6.5) (2021.3.9)\n",
            "Requirement already satisfied: pandas>=1.0.4 in /usr/local/lib/python3.7/dist-packages (from matminer==0.6.5) (1.1.5)\n",
            "Requirement already satisfied: tqdm>=4.46.0 in /usr/local/lib/python3.7/dist-packages (from matminer==0.6.5) (4.62.3)\n",
            "Requirement already satisfied: pymongo>=3.10.1 in /usr/local/lib/python3.7/dist-packages (from matminer==0.6.5) (3.12.0)\n",
            "Collecting pint>=0.11\n",
            "  Downloading Pint-0.18-py2.py3-none-any.whl (209 kB)\n",
            "\u001b[K     |████████████████████████████████| 209 kB 69.0 MB/s \n",
            "\u001b[?25hRequirement already satisfied: six>=1.15.0 in /usr/local/lib/python3.7/dist-packages (from matminer==0.6.5) (1.15.0)\n",
            "Requirement already satisfied: plotly>=4.8.1 in /usr/local/lib/python3.7/dist-packages (from matminer==0.6.5) (5.3.1)\n",
            "Collecting future>=0.18.2\n",
            "  Downloading future-0.18.2.tar.gz (829 kB)\n",
            "\u001b[K     |████████████████████████████████| 829 kB 67.8 MB/s \n",
            "\u001b[?25hRequirement already satisfied: sympy>=1.6 in /usr/local/lib/python3.7/dist-packages (from matminer==0.6.5) (1.7.1)\n",
            "Collecting scikit_learn>=0.23.1\n",
            "  Downloading scikit_learn-1.0.1-cp37-cp37m-manylinux_2_12_x86_64.manylinux2010_x86_64.whl (23.2 MB)\n",
            "\u001b[K     |████████████████████████████████| 23.2 MB 70.3 MB/s \n",
            "\u001b[?25hRequirement already satisfied: monty>=3.0.2 in /usr/local/lib/python3.7/dist-packages (from matminer==0.6.5) (2021.8.17)\n",
            "Collecting jsonschema>=3.2.0\n",
            "  Downloading jsonschema-4.2.0-py3-none-any.whl (69 kB)\n",
            "\u001b[K     |████████████████████████████████| 69 kB 6.9 MB/s \n",
            "\u001b[?25hRequirement already satisfied: importlib-resources in /usr/local/lib/python3.7/dist-packages (from jsonschema>=3.2.0->matminer==0.6.5) (5.2.2)\n",
            "Requirement already satisfied: attrs>=17.4.0 in /usr/local/lib/python3.7/dist-packages (from jsonschema>=3.2.0->matminer==0.6.5) (21.2.0)\n",
            "Requirement already satisfied: importlib-metadata in /usr/local/lib/python3.7/dist-packages (from jsonschema>=3.2.0->matminer==0.6.5) (4.8.1)\n",
            "Requirement already satisfied: pyrsistent!=0.17.0,!=0.17.1,!=0.17.2,>=0.14.0 in /usr/local/lib/python3.7/dist-packages (from jsonschema>=3.2.0->matminer==0.6.5) (0.18.0)\n",
            "Requirement already satisfied: python-dateutil>=2.7.3 in /usr/local/lib/python3.7/dist-packages (from pandas>=1.0.4->matminer==0.6.5) (2.8.2)\n",
            "Requirement already satisfied: pytz>=2017.2 in /usr/local/lib/python3.7/dist-packages (from pandas>=1.0.4->matminer==0.6.5) (2018.9)\n",
            "Requirement already satisfied: packaging in /usr/local/lib/python3.7/dist-packages (from pint>=0.11->matminer==0.6.5) (21.0)\n",
            "Requirement already satisfied: tenacity>=6.2.0 in /usr/local/lib/python3.7/dist-packages (from plotly>=4.8.1->matminer==0.6.5) (8.0.1)\n",
            "Requirement already satisfied: tabulate in /usr/local/lib/python3.7/dist-packages (from pymatgen>=2020.4.29->matminer==0.6.5) (0.8.9)\n",
            "Requirement already satisfied: palettable>=3.1.1 in /usr/local/lib/python3.7/dist-packages (from pymatgen>=2020.4.29->matminer==0.6.5) (3.3.0)\n",
            "Requirement already satisfied: uncertainties>=3.1.4 in /usr/local/lib/python3.7/dist-packages (from pymatgen>=2020.4.29->matminer==0.6.5) (3.1.6)\n",
            "Requirement already satisfied: networkx>=2.2 in /usr/local/lib/python3.7/dist-packages (from pymatgen>=2020.4.29->matminer==0.6.5) (2.6.3)\n",
            "Requirement already satisfied: typing-extensions>=3.7.4.3 in /usr/local/lib/python3.7/dist-packages (from pymatgen>=2020.4.29->matminer==0.6.5) (3.7.4.3)\n",
            "Requirement already satisfied: scipy>=1.5.0 in /usr/local/lib/python3.7/dist-packages (from pymatgen>=2020.4.29->matminer==0.6.5) (1.7.1)\n",
            "Requirement already satisfied: spglib>=1.9.9.44 in /usr/local/lib/python3.7/dist-packages (from pymatgen>=2020.4.29->matminer==0.6.5) (1.16.2)\n",
            "Requirement already satisfied: matplotlib>=1.5 in /usr/local/lib/python3.7/dist-packages (from pymatgen>=2020.4.29->matminer==0.6.5) (3.2.2)\n",
            "Requirement already satisfied: ruamel.yaml>=0.15.6 in /usr/local/lib/python3.7/dist-packages (from pymatgen>=2020.4.29->matminer==0.6.5) (0.17.17)\n",
            "Requirement already satisfied: pyparsing!=2.0.4,!=2.1.2,!=2.1.6,>=2.0.1 in /usr/local/lib/python3.7/dist-packages (from matplotlib>=1.5->pymatgen>=2020.4.29->matminer==0.6.5) (2.4.7)\n",
            "Requirement already satisfied: cycler>=0.10 in /usr/local/lib/python3.7/dist-packages (from matplotlib>=1.5->pymatgen>=2020.4.29->matminer==0.6.5) (0.10.0)\n",
            "Requirement already satisfied: kiwisolver>=1.0.1 in /usr/local/lib/python3.7/dist-packages (from matplotlib>=1.5->pymatgen>=2020.4.29->matminer==0.6.5) (1.3.2)\n",
            "Requirement already satisfied: chardet<4,>=3.0.2 in /usr/local/lib/python3.7/dist-packages (from requests>=2.23.0->matminer==0.6.5) (3.0.4)\n",
            "Requirement already satisfied: idna<3,>=2.5 in /usr/local/lib/python3.7/dist-packages (from requests>=2.23.0->matminer==0.6.5) (2.10)\n",
            "Requirement already satisfied: urllib3!=1.25.0,!=1.25.1,<1.26,>=1.21.1 in /usr/local/lib/python3.7/dist-packages (from requests>=2.23.0->matminer==0.6.5) (1.24.3)\n",
            "Requirement already satisfied: certifi>=2017.4.17 in /usr/local/lib/python3.7/dist-packages (from requests>=2.23.0->matminer==0.6.5) (2021.5.30)\n",
            "Requirement already satisfied: ruamel.yaml.clib>=0.1.2 in /usr/local/lib/python3.7/dist-packages (from ruamel.yaml>=0.15.6->pymatgen>=2020.4.29->matminer==0.6.5) (0.2.6)\n",
            "Collecting threadpoolctl>=2.0.0\n",
            "  Downloading threadpoolctl-3.0.0-py3-none-any.whl (14 kB)\n",
            "Requirement already satisfied: joblib>=0.11 in /usr/local/lib/python3.7/dist-packages (from scikit_learn>=0.23.1->matminer==0.6.5) (1.0.1)\n",
            "Requirement already satisfied: mpmath>=0.19 in /usr/local/lib/python3.7/dist-packages (from sympy>=1.6->matminer==0.6.5) (1.2.1)\n",
            "Requirement already satisfied: zipp>=0.5 in /usr/local/lib/python3.7/dist-packages (from importlib-metadata->jsonschema>=3.2.0->matminer==0.6.5) (3.6.0)\n",
            "Building wheels for collected packages: matminer, future\n",
            "  Building wheel for matminer (setup.py) ... \u001b[?25l\u001b[?25hdone\n",
            "  Created wheel for matminer: filename=matminer-0.6.5-py3-none-any.whl size=1189796 sha256=b17610a7707339be3448c64079723e7b05a0b070a390adedb0a7c2fcc7583526\n",
            "  Stored in directory: /root/.cache/pip/wheels/80/af/92/50a39a27f187d8c8f65bc49eeae74d300861503e78323a800f\n",
            "  Building wheel for future (setup.py) ... \u001b[?25l\u001b[?25hdone\n",
            "  Created wheel for future: filename=future-0.18.2-py3-none-any.whl size=491070 sha256=7f789c647ad79a60d86083cc5f1b2dad44f1a60268d54cab8b501404c6f064d6\n",
            "  Stored in directory: /root/.cache/pip/wheels/56/b0/fe/4410d17b32f1f0c3cf54cdfb2bc04d7b4b8f4ae377e2229ba0\n",
            "Successfully built matminer future\n"
          ]
        }
      ]
    },
    {
      "cell_type": "code",
      "metadata": {
        "id": "hrdXYpAWrnvv"
      },
      "source": [
        "# You can get various training data by using Matminer.\n",
        "# Import the function for getting the dataset \n",
        "from matminer.datasets import get_available_datasets"
      ],
      "execution_count": null,
      "outputs": []
    },
    {
      "cell_type": "code",
      "metadata": {
        "id": "lpnn0Z7ervHD"
      },
      "source": [
        "# View available data names and details \n",
        "get_available_datasets()"
      ],
      "execution_count": null,
      "outputs": []
    },
    {
      "cell_type": "code",
      "metadata": {
        "id": "Qqeci-8I5a1G"
      },
      "source": [
        "# Import a function to read a dataset \n",
        "from matminer.datasets import load_dataset"
      ],
      "execution_count": null,
      "outputs": []
    },
    {
      "cell_type": "code",
      "metadata": {
        "id": "hHmBPkGL5geC"
      },
      "source": [
        "# Read the dataset Import the function to read the dataset \"dielectric_constant\" into the pandas data frame \n",
        "df = load_dataset(\"dielectric_constant\")"
      ],
      "execution_count": null,
      "outputs": []
    },
    {
      "cell_type": "code",
      "metadata": {
        "id": "EdEuB-695mF5"
      },
      "source": [
        "# Display the beginning of the data frame \n",
        "df.head()"
      ],
      "execution_count": null,
      "outputs": []
    },
    {
      "cell_type": "code",
      "metadata": {
        "id": "jpgeLYlS5rsr"
      },
      "source": [
        "df.tail()"
      ],
      "execution_count": null,
      "outputs": []
    },
    {
      "cell_type": "code",
      "metadata": {
        "id": "RLrorDrO5tMd"
      },
      "source": [
        "# データフレームの各列の基本的な統計量を計算する  \n",
        "#（統計量を計算できる数値データの列だけが表示される）\n",
        "df[\"band_gap\"]"
      ],
      "execution_count": null,
      "outputs": []
    },
    {
      "cell_type": "code",
      "metadata": {
        "id": "2cZeHqrC52x_"
      },
      "source": [
        "# Fetch the 3rd row data (Note: python index starts from 0) \n",
        "df.iloc[2]"
      ],
      "execution_count": null,
      "outputs": []
    },
    {
      "cell_type": "code",
      "metadata": {
        "id": "fuu-LhbI588-"
      },
      "source": [
        "# Extract only row data whose \"volume\" is 580 or more\n",
        "# (Refer to Boolean index: Extract only index whose condition is True) \n",
        "mask = (df[\"volume\"] >= 580)\n",
        "df[mask]"
      ],
      "execution_count": null,
      "outputs": []
    },
    {
      "cell_type": "code",
      "metadata": {
        "id": "Gl1O9g-R6MXA"
      },
      "source": [
        "# Extract only row data whose \"band_gap\" is greater than 0 and generate a new data frame \n",
        "mask = (df[\"band_gap\"] > 0)\n",
        "semiconductor_df = df[mask]\n",
        "semiconductor_df"
      ],
      "execution_count": null,
      "outputs": []
    },
    {
      "cell_type": "code",
      "metadata": {
        "id": "JRC51crE6TDP"
      },
      "source": [
        "# Drop the four columns ([\"nsites\", \"space_group\", \"e_electronic\", \"e_total\"])\n",
        "# (When the axis number is 0, the row is deleted, and when it is 1, the column is deleted)\n",
        "# Note: After deleting, you need to assign it to a variable in the dataframe (the original variable df has not changed) \n",
        "cleaned_df = df.drop([\"nsites\", \"space_group\", \"e_electronic\", \"e_total\"], axis=1)"
      ],
      "execution_count": null,
      "outputs": []
    },
    {
      "cell_type": "code",
      "metadata": {
        "id": "8Dskiay16d1T"
      },
      "source": [
        "cleaned_df.head()"
      ],
      "execution_count": null,
      "outputs": []
    },
    {
      "cell_type": "markdown",
      "metadata": {
        "id": "5gfyz4N-6jll"
      },
      "source": [
        "Calculate the Ionic contribution from the total (static) dielectric constant ϵtotal and the dielectric constant ϵelectronic\n",
        "$$\n",
        "\\epsilon_{\\text{inonic}} = \\epsilon_{\\text{total}} - \\epsilon_{\\text{electronic}}\n",
        "$$\n",
        "If you specify a column and perform four arithmetic operations, it will calculate for each corresponding element.\n",
        "And if the data frame does not have the specified column name, a new column will be created "
      ]
    },
    {
      "cell_type": "code",
      "metadata": {
        "id": "x5tGgGO56f1L"
      },
      "source": [
        "df[\"poly_ionic\"] = df[\"poly_total\"] - df[\"poly_electronic\"]"
      ],
      "execution_count": null,
      "outputs": []
    },
    {
      "cell_type": "code",
      "metadata": {
        "id": "7HadekEO66Tt"
      },
      "source": [
        "# Confirm that the column has been added \n",
        "df.head()"
      ],
      "execution_count": null,
      "outputs": []
    },
    {
      "cell_type": "markdown",
      "metadata": {
        "id": "cDns4ELP7CGL"
      },
      "source": [
        "Descriptor generation for machine learning \n",
        "\n",
        "Learn how to generate descriptors for machine learning models.\n",
        "matminer's featuresizers provide methods to generate descriptors from composition and structure (atomic arrangement).\n",
        "See the official documentation for a list of descriptors that can be generated:\n",
        "https://hackingmaterials.lbl.gov/matminer/featurizer_summary.html\n",
        "\n",
        "Learn how to generate a descriptor from the pymatgen class Composition. First, create a Composition object with composition Fe2O3. "
      ]
    },
    {
      "cell_type": "code",
      "metadata": {
        "id": "Hut8KqXJ7Cu9"
      },
      "source": [
        "from pymatgen import Composition\n",
        "\n",
        "fe2o3 = Composition(\"Fe2O3\")"
      ],
      "execution_count": null,
      "outputs": []
    },
    {
      "cell_type": "code",
      "metadata": {
        "id": "Uwa4u2zI7Ok7"
      },
      "source": [
        "# Import of class ElementProperty to generate elemental feature statistic as descriptor \n",
        "from matminer.featurizers.composition import ElementProperty"
      ],
      "execution_count": null,
      "outputs": []
    },
    {
      "cell_type": "code",
      "metadata": {
        "id": "i5RrpLyg7Uxr"
      },
      "source": [
        "# List of names of elemental features\n",
        "# The following class Element Parameters can be used: https://pymatgen.org/pymatgen.core.periodic_table.html \n",
        "prop_name = [\"atomic_radius_calculated\",\"molar_volume\", \"boiling_point\", \"melting_point\",\"liquid_range\"]"
      ],
      "execution_count": null,
      "outputs": []
    },
    {
      "cell_type": "code",
      "metadata": {
        "id": "aw1azBU17fRI"
      },
      "source": [
        "# Create an object of class ElementProperty\n",
        "# Arguments: database name, elemental features, statistic (here weighted average) \n",
        "ep = ElementProperty(\"pymatgen\",prop_name,['mean'])"
      ],
      "execution_count": null,
      "outputs": []
    },
    {
      "cell_type": "code",
      "metadata": {
        "id": "SOoAMl0J7k2h"
      },
      "source": [
        "# The name of the descriptor to be generated \n",
        "element_prop_labels = ep.feature_labels()\n",
        "print(element_prop_labels)"
      ],
      "execution_count": null,
      "outputs": []
    },
    {
      "cell_type": "code",
      "metadata": {
        "id": "vTAzglC37qsq"
      },
      "source": [
        "element_weight_averaged_prop = ep.featurize(fe2o3)\n",
        "print(element_weight_averaged_prop)"
      ],
      "execution_count": null,
      "outputs": []
    },
    {
      "cell_type": "code",
      "metadata": {
        "id": "J62AZyZ57s9V"
      },
      "source": [
        "# Import of class ElementFraction to generate element ratio as descriptor \n",
        "from matminer.featurizers.composition import ElementFraction"
      ],
      "execution_count": null,
      "outputs": []
    },
    {
      "cell_type": "code",
      "metadata": {
        "id": "P5ypR20c7yZf"
      },
      "source": [
        "# Create an object of class ElementFraction \n",
        "ef = ElementFraction()"
      ],
      "execution_count": null,
      "outputs": []
    },
    {
      "cell_type": "code",
      "metadata": {
        "id": "TCGvVnCH73V4"
      },
      "source": [
        "# The name of the descriptor to be generated \n",
        "element_fraction_labels = ef.feature_labels()\n",
        "print(element_fraction_labels)"
      ],
      "execution_count": null,
      "outputs": []
    },
    {
      "cell_type": "code",
      "metadata": {
        "id": "XCbRLtbp77pm"
      },
      "source": [
        "# Generate descriptor \n",
        "element_fractions = ef.featurize(fe2o3)\n",
        "print(element_fractions)"
      ],
      "execution_count": null,
      "outputs": []
    },
    {
      "cell_type": "code",
      "metadata": {
        "id": "RXLtbmqw8BfQ"
      },
      "source": [
        "# Check the descriptor name and descriptor value together \n",
        "print(element_fraction_labels[7], element_fractions[7])\n",
        "print(element_fraction_labels[25], element_fractions[25])"
      ],
      "execution_count": null,
      "outputs": []
    },
    {
      "cell_type": "code",
      "metadata": {
        "id": "y__gnnJ08GzI"
      },
      "source": [
        "# In the above steps, you learned how to generate a descriptor for a single Composition object,\n",
        "# When there are many compositions, it is tedious to generate descriptors one by one.\n",
        "# In the following, you will learn the procedure for collectively generating the descriptors of the composition and structure contained in the data frame.\n",
        "\n",
        "# Read the dataset contained in matminer \n",
        "from matminer.datasets.dataset_retrieval import load_dataset\n",
        "\n",
        "df = load_dataset(\"brgoch_superhard_training\")\n",
        "df.head()"
      ],
      "execution_count": null,
      "outputs": []
    },
    {
      "cell_type": "code",
      "metadata": {
        "id": "27qB5so98QWs"
      },
      "source": [
        "# The column \"composition\" contains the Composition object for pymatgen.\n",
        "# Only the element name is displayed, but confirm that there is also information such as composition ratio. \n",
        "print(df[\"composition\"][2])\n",
        "print(type(df[\"composition\"][2]))"
      ],
      "execution_count": null,
      "outputs": []
    },
    {
      "cell_type": "code",
      "metadata": {
        "id": "kMtzZiZ68YBZ"
      },
      "source": [
        "# By the method featurerize_dataframe of the object of class ElementFraction\n",
        "# Can generate descriptors for data frames. (1st argument: data frame, 2nd argument: composition)\n",
        "# (Use package multiprocessing to calculate descriptors for each composition in parallel)\n",
        "\n",
        "# Note: Must be reassigned to a variable in the data frame \n",
        "df = ef.featurize_dataframe(df, \"composition\")"
      ],
      "execution_count": null,
      "outputs": []
    },
    {
      "cell_type": "code",
      "metadata": {
        "id": "92ze7UM_8f9p"
      },
      "source": [
        "# Make sure the descriptor has been added \n",
        "df.head()"
      ],
      "execution_count": null,
      "outputs": []
    },
    {
      "cell_type": "code",
      "metadata": {
        "id": "pj-nfXXI8kqF"
      },
      "source": [
        "# Next, learn how to generate descriptors from pymatgen's Structure object (crystal structure data).\n",
        "\n",
        "# Load a new dataset containing Structure objects \n",
        "df = load_dataset(\"phonon_dielectric_mp\")\n",
        "\n",
        "df.head()"
      ],
      "execution_count": null,
      "outputs": []
    },
    {
      "cell_type": "code",
      "metadata": {
        "id": "vpSQdPIA8s0s"
      },
      "source": [
        "# Make sure the column \"structure\" contains a Structure object \n",
        "print(df[\"structure\"][0])"
      ],
      "execution_count": null,
      "outputs": []
    },
    {
      "cell_type": "code",
      "metadata": {
        "id": "S4fJ4wgj8yeO"
      },
      "source": [
        "# Import the class \"DensityFeatures\" that generates a descriptor about density \n",
        "from matminer.featurizers.structure import DensityFeatures"
      ],
      "execution_count": null,
      "outputs": []
    },
    {
      "cell_type": "code",
      "metadata": {
        "id": "Njr8tnQA83ny"
      },
      "source": [
        "# Creating an object of class DensityFeatures \n",
        "densityf = DensityFeatures()"
      ],
      "execution_count": null,
      "outputs": []
    },
    {
      "cell_type": "code",
      "metadata": {
        "id": "dGvzlxZn89Ib"
      },
      "source": [
        "# Descriptor name \n",
        "densityf.feature_labels()"
      ],
      "execution_count": null,
      "outputs": []
    },
    {
      "cell_type": "code",
      "metadata": {
        "id": "OjtV2fDz9BLl"
      },
      "source": [
        "# Generate and add a density descriptor from the crystal structure information of the data frame \n",
        "df = densityf.featurize_dataframe(df, \"structure\")"
      ],
      "execution_count": null,
      "outputs": []
    },
    {
      "cell_type": "code",
      "metadata": {
        "id": "qtISgBJj9GhI"
      },
      "source": [
        "# Confirm that 3 descriptors have been added \n",
        "df.head()"
      ],
      "execution_count": null,
      "outputs": []
    },
    {
      "cell_type": "code",
      "metadata": {
        "id": "H8Qp1AE19L-B"
      },
      "source": [
        "# matminer provides a class for converting pymatgen objects.\n",
        "# The following example tries the class StrToComposition, which converts a string to a composition.\n",
        "\n",
        "# Import class StrToComposition \n",
        "from matminer.featurizers.conversions import StrToComposition"
      ],
      "execution_count": null,
      "outputs": []
    },
    {
      "cell_type": "code",
      "metadata": {
        "id": "23HZA_PP9TRb"
      },
      "source": [
        "# Create an object of class StrToComposition \n",
        "stc = StrToComposition()"
      ],
      "execution_count": null,
      "outputs": []
    },
    {
      "cell_type": "code",
      "metadata": {
        "id": "sk6kraA99YY_"
      },
      "source": [
        "# Display column \"formula\", check data class \n",
        "print(df[\"formula\"][0])\n",
        "print(type(df[\"formula\"][0]))"
      ],
      "execution_count": null,
      "outputs": []
    },
    {
      "cell_type": "code",
      "metadata": {
        "id": "G3ytZYK_9drS"
      },
      "source": [
        "# Create a Composition object using the character string of the composition formula of the data frame \n",
        "df = stc.featurize_dataframe(df, \"formula\")"
      ],
      "execution_count": null,
      "outputs": []
    },
    {
      "cell_type": "code",
      "metadata": {
        "id": "ez1yw-bN9i4a"
      },
      "source": [
        "# Confirm that Composition has been added \n",
        "df.head()"
      ],
      "execution_count": null,
      "outputs": []
    },
    {
      "cell_type": "code",
      "metadata": {
        "id": "KPAzsJXO9mt7"
      },
      "source": [
        "# Make sure the column \"composition\" is an object of class Composition in pymatgen \n",
        "print(df[\"composition\"][0])\n",
        "print(type(df[\"composition\"][0]))"
      ],
      "execution_count": null,
      "outputs": []
    },
    {
      "cell_type": "markdown",
      "metadata": {
        "id": "7jzHBQxn9trJ"
      },
      "source": [
        "Machine learning model training and prediction "
      ]
    },
    {
      "cell_type": "code",
      "metadata": {
        "id": "K1RL-WG79yqz"
      },
      "source": [
        "# Import function to load json format data \n",
        "from matminer.utils.io import load_dataframe_from_json"
      ],
      "execution_count": null,
      "outputs": []
    },
    {
      "cell_type": "code",
      "metadata": {
        "id": "ZUYcg0Xn95Sc"
      },
      "source": [
        "# Load the dataset for the elastic tensor of the material (data for the following papers)\n",
        "\n",
        "# de Jong M, Chen W, Angsten T, Jain A, Notestine R, Gamst A, Sluiter M, Ande CK, van der Zwaag S,\n",
        "# Plata JJ, Toher C, Curtarolo S, Ceder G, Persson KA, Asta M (2015)\n",
        "# Charting the complete elastic properties of inorganic crystalline compounds. Scientific Data 2: 150009.\n",
        "# https://doi.org/10.1038/sdata.2015.9\n",
        "from google.colab import files\n",
        "uploaded = files.upload() # elastic_tensor_2015_featurized.json\n",
        "df = load_dataframe_from_json(\"elastic_tensor_2015_featurized.json\")\n",
        "df.head()"
      ],
      "execution_count": null,
      "outputs": []
    },
    {
      "cell_type": "code",
      "metadata": {
        "id": "79UA6tVK-EbG"
      },
      "source": [
        "# Let the objective variable to be predicted be \"K_VRH\". This value indicates bulk modulus.\n",
        "# Specify the attribute values of the data frame, extract only the information of numpy.array and assign it to the variable y. \n",
        "y = df['K_VRH'].values\n",
        "\n",
        "print(y)"
      ],
      "execution_count": null,
      "outputs": []
    },
    {
      "cell_type": "code",
      "metadata": {
        "id": "bhiPGi3E-Lzw"
      },
      "source": [
        "# Generate a matrix X consisting of descriptors (features) to be input to the machine learning model.\n",
        "# The matrix X is a matrix of the size of the number of data × the number of descriptors.\n",
        "\n",
        "# This matrix is generated by removing other than the descriptor (numerical data, other than the objective variable). \n",
        "X = df.drop([\"structure\", \"formula\", \"composition\", \"K_VRH\"], axis=1)"
      ],
      "execution_count": null,
      "outputs": []
    },
    {
      "cell_type": "code",
      "metadata": {
        "id": "BzNCjHQU-UnO"
      },
      "source": [
        "# Display the name of the descriptor \n",
        "print(\"There are {} possible descriptors:\".format(X.columns))\n",
        "print(X.columns)"
      ],
      "execution_count": null,
      "outputs": []
    },
    {
      "cell_type": "code",
      "metadata": {
        "id": "ry16igiy-Y3c"
      },
      "source": [
        "# Import the machine learning model class RandomForestRegressor for predicting real numbers \n",
        "from sklearn.ensemble import RandomForestRegressor"
      ],
      "execution_count": null,
      "outputs": []
    },
    {
      "cell_type": "code",
      "metadata": {
        "id": "8z-FO98--h6t"
      },
      "source": [
        "# Create an object of class RandomForestRegressor \n",
        "rf = RandomForestRegressor(n_estimators=100, random_state=1)"
      ],
      "execution_count": null,
      "outputs": []
    },
    {
      "cell_type": "code",
      "metadata": {
        "id": "ZEMd5qlv-mhu"
      },
      "source": [
        "# Train the model using the training data (pair of feature matrix X and objective variable y) \n",
        "rf.fit(X, y)"
      ],
      "execution_count": null,
      "outputs": []
    },
    {
      "cell_type": "code",
      "metadata": {
        "id": "eiu3Qcd9-sEr"
      },
      "source": [
        "# Predict the value of the objective variable from the features.\n",
        "# Here, the objective variable of the training data is predicted \n",
        "y_pred = rf.predict(X)"
      ],
      "execution_count": null,
      "outputs": []
    },
    {
      "cell_type": "code",
      "metadata": {
        "id": "gB7qlurW-y3x"
      },
      "source": [
        "# Import of numerical calculation package numpy \n",
        "import numpy as np"
      ],
      "execution_count": null,
      "outputs": []
    },
    {
      "cell_type": "code",
      "metadata": {
        "id": "hPhIRrKn-3Lp"
      },
      "source": [
        "# Importing a function to calculate the mean squared error (MSE) \n",
        "from sklearn.metrics import mean_squared_error"
      ],
      "execution_count": null,
      "outputs": []
    },
    {
      "cell_type": "code",
      "metadata": {
        "id": "uaeCorgG-9U8"
      },
      "source": [
        "# Calculate the MSE between the predicted and true values of the objective variable for the training data \n",
        "mse = mean_squared_error(y, y_pred)\n",
        "print('training RMSE = {:.3f} GPa'.format(np.sqrt(mse)))"
      ],
      "execution_count": null,
      "outputs": []
    },
    {
      "cell_type": "code",
      "metadata": {
        "id": "sp3e7AsK_ESD"
      },
      "source": [
        "# Import a class to perform K-fold Cross Validation\n",
        "# Cross-validation: One of the methods for estimating the test error of a prediction model \n",
        "from sklearn.model_selection import KFold"
      ],
      "execution_count": null,
      "outputs": []
    },
    {
      "cell_type": "code",
      "metadata": {
        "id": "NAZwDnzT_K-p"
      },
      "source": [
        "# Creating an object of class KFold\n",
        "# k = 10, set to shuffle the data order \n",
        "kfold = KFold(n_splits=10, shuffle=True)"
      ],
      "execution_count": null,
      "outputs": []
    },
    {
      "cell_type": "code",
      "metadata": {
        "id": "dt2-X3dK_Q1T"
      },
      "source": [
        "# Import functions to calculate cross-validation scores \n",
        "from sklearn.model_selection import cross_val_score"
      ],
      "execution_count": null,
      "outputs": []
    },
    {
      "cell_type": "code",
      "metadata": {
        "id": "M_7BaZ9t_Wjh"
      },
      "source": [
        "# Perform cross-validation\n",
        "# Arguments: Machine learning model rf, training data input (feature) X, objective variable y, score to be calculated, cross-validation object\n",
        "# Negative value of MSE is set as the score \n",
        "scores = cross_val_score(rf, X, y, scoring='neg_mean_squared_error', cv=kfold)\n"
      ],
      "execution_count": null,
      "outputs": []
    },
    {
      "cell_type": "code",
      "metadata": {
        "id": "yrWc6O3o_kbW"
      },
      "source": [
        "# Calculates the square root (RMSE: Root MSE) of the absolute value of the calculated score value and displays its average value\n",
        "# (Since it is executed k times, there are k scores)\n",
        "rmse_scores = [np.sqrt(abs(s)) for s in scores]\n",
        "print('Mean RMSE: {:.3f}'.format(np.mean(rmse_scores)))"
      ],
      "execution_count": null,
      "outputs": []
    },
    {
      "cell_type": "code",
      "metadata": {
        "id": "9_Ohde-p_s3e"
      },
      "source": [
        "# A function that calculates the predicted value of test data calculated in the process of cross-validation \n",
        "from sklearn.model_selection import cross_val_predict"
      ],
      "execution_count": null,
      "outputs": []
    },
    {
      "cell_type": "code",
      "metadata": {
        "id": "oRWxa0Jh_zFS"
      },
      "source": [
        "# Predicted value of test data in cross-validation \n",
        "y_pred = cross_val_predict(rf, X, y, cv=kfold)"
      ],
      "execution_count": null,
      "outputs": []
    },
    {
      "cell_type": "code",
      "metadata": {
        "id": "3jJPorZx_5VR"
      },
      "source": [
        "# Import a class to visualize a scatter plot of forecast results \n",
        "from matminer.figrecipes.plot import PlotlyFig"
      ],
      "execution_count": null,
      "outputs": []
    },
    {
      "cell_type": "code",
      "metadata": {
        "id": "EEnS1z74_9WK"
      },
      "source": [
        "# Visualization of forecast results\n",
        "# Since the horizontal axis is the true value and the vertical axis is the predicted value, it is better to have a lot of data on the diagonal line. \n",
        "pf = PlotlyFig(x_title='DFT (MP) bulk modulus (GPa)',\n",
        "               y_title='Predicted bulk modulus (GPa)',\n",
        "               mode='notebook')\n",
        "\n",
        "pf.xy(xy_pairs=[(y, y_pred), ([0, 400], [0, 400])], \n",
        "      labels=df['formula'], \n",
        "      modes=['markers', 'lines'],\n",
        "      lines=[{}, {'color': 'black', 'dash': 'dash'}], \n",
        "      showlegends=False)"
      ],
      "execution_count": null,
      "outputs": []
    },
    {
      "cell_type": "code",
      "metadata": {
        "id": "nkcqzv0sAGXQ"
      },
      "source": [
        "# Importance of features calculated in Random Forest \n",
        "rf.feature_importances_"
      ],
      "execution_count": null,
      "outputs": []
    },
    {
      "cell_type": "code",
      "metadata": {
        "id": "lwVkPi7xAMjW"
      },
      "source": [
        "# Visualize features sorted in descending order of importance\n",
        "# 1st line: Importance of features\n",
        "# 2nd line: Name of feature quantity\n",
        "# 3rd: Data index in descending order of features\n",
        "# 4th and subsequent lines: Visualize up to the top 5 \n",
        "importances = rf.feature_importances_\n",
        "included = X.columns.values\n",
        "indices = np.argsort(importances)[::-1]\n",
        "\n",
        "pf = PlotlyFig(y_title='Importance (%)',\n",
        "               title='Feature by importances',\n",
        "               mode='notebook')\n",
        "\n",
        "pf.bar(x=included[indices][0:5], y=importances[indices][0:5])"
      ],
      "execution_count": null,
      "outputs": []
    }
  ]
}